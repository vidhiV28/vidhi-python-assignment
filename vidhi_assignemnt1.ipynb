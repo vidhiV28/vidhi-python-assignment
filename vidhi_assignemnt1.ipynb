{
  "nbformat": 4,
  "nbformat_minor": 0,
  "metadata": {
    "colab": {
      "provenance": []
    },
    "kernelspec": {
      "name": "python3",
      "display_name": "Python 3"
    },
    "language_info": {
      "name": "python"
    }
  },
  "cells": [
    {
      "cell_type": "code",
      "execution_count": null,
      "metadata": {
        "id": "ORGXB7W5UMk6"
      },
      "outputs": [],
      "source": [
        "#1.   Explain the key features of Python that make it a popular choice for programming.\n",
        "#Ans. The key features of python that make it uniquely chosen for pragramming are:-\n",
        "#     a.simple and easy to learn.\n",
        "#     b.extensive community.\n",
        "#     c.large standard libraries.\n",
        "#     d.high level language.\n",
        "#     e.object oriented."
      ]
    },
    {
      "cell_type": "code",
      "source": [
        "#2.   Describe the role of predefined keywords in Python and provide examples of how they are used in a programming.\n",
        "#Ans. Predefined keywords, also known as reserved words, are the words which are reserved for performing specific tasks.\n",
        "#     They have specific meanings and are used to define the syntax and structure of the language. Because of their reserved status,\n",
        "#     these keywords cannot be used as identifiers, such as variable names, function names, or class names.\n",
        "#     Role of keywords in python:-\n",
        "#     1.Control Flow: Keywords like if, else, elif, for, while, and break are used to control the flow of the program.\n",
        "      x=10\n",
        "      if x>0:\n",
        "        print(\"greater\")\n",
        "      else:\n",
        "        print(\"smaller\")\n",
        "#     2.Defining Functions and Classes: Keywords such as def and class are used to define functions and classes.\n",
        "#     3.Data Types and Operations: Keywords like True, False, and None represent specific data values.\n",
        "#       Operators like and, or, not, is, and in are used to perform operations on data.\n",
        "        numbers = [1, 2, 3]\n",
        "        if 2 in numbers:\n",
        "          print(\"Found\")\n",
        "#     4.Exception Handling: Keywords like try, except, finally, raise, and assert are used for handling errors and exceptions,\n",
        "#       ensuring the program can manage unexpected situations gracefully.\n",
        "#     5.Others: Keywords like pass, global, nonlocal, and lambda serve various other purposes, such as defining anonymous functions,\n",
        "#       indicating a placeholder, or modifying the scope of variables."
      ],
      "metadata": {
        "id": "2lkv8vM_6SYq"
      },
      "execution_count": null,
      "outputs": []
    },
    {
      "cell_type": "code",
      "source": [
        "#3.  Compare and contrast mutable and immutable objects in Python with examples.\n",
        "#Ans                               mutable                                                                  immutable\n",
        "#     Data type whose values can be changed after creation.                             Data types whose values can’t be changed or altered.\n",
        "#     Retains the same memory location even after the content is modified.              Any modification results in a new object and new memory location\n",
        "#     ex-List, Dictionaries, Set                                                        ex-Strings, Types, Integer\n",
        "#     it is slower as by keeping track for frequent changes.                           It might be faster in some scenarios as there’s no need to track changes.\n",
        "      name = ['Vikram', 'Anshul', 'Amit', 'Suresh']                                     word = \"Hello!\"\n",
        "      name[0]='Kamal'                                                                   word[1] = \"m\"\n",
        "      print(name)                                                                       \"'will through an error'\"\n",
        "#     output-['Kamal','Anshul','Amit','Suresh']"
      ],
      "metadata": {
        "id": "6rnfmFdABJa1"
      },
      "execution_count": null,
      "outputs": []
    },
    {
      "cell_type": "code",
      "source": [
        "#4.    Discuss the different types of operators in Python and provide examples of how they are used\n",
        "#Ans    There are several types of operators in Python, including:\n",
        "#       Arithmetic Operators: Arithmetic operators are used to perform mathematical operations such as addition,\n",
        "#       subtraction, multiplication, and division.\n",
        "        a = 5\n",
        "        b = 3\n",
        "        print(a + b)  # Output: 8\n",
        "        print(a ** b)  # Output: 125\n",
        "#       Comparison Operators: Comparison operators are used to compare values. They return True or False based on the comparison.(=,=!,<,>,<=,>=)\n",
        "        a = 5\n",
        "        b = 3\n",
        "        print(a < b)   # Output: False\n",
        "#       Logical Operators: Logical operators are used to combine conditional statements.(and ,or ,not)\n",
        "        a = 5\n",
        "        b = 3\n",
        "        print(not a > b)         # Output: False\n",
        "#       Assignment Operators: Assignment operators are used to assign values to variables.(=,+=,-=)\n",
        "        a = 5\n",
        "        a += 3  # equivalent to a = a + 3\n",
        "        print(a)  # Output: 8\n",
        "#       Identity Operators: Identity operators are used to check if two variables point to the same object in memory.\n",
        "         a= [1, 2, 3]\n",
        "         b = [1, 2, 3]\n",
        "\n",
        "        print(a is b)  # Output: False\n",
        "#       Membership Operators: Membership operators are used to check if a value exists in a sequence (in not in)\n",
        "        a = [1, 2, 3]\n",
        "\n",
        "        print(1 in a)  # Output: True\n",
        "#       Bitwise Operators: Bitwise operators are used to perform operations on the binary representation of numbers.\n",
        "        a = 5    # binary: 101\n",
        "        b = 3    # binary: 011\n",
        "\n",
        "        print(a & b)  # Output: 1 (binary: 001)\n",
        "        print(a | b)  # Output: 7 (binary: 111)"
      ],
      "metadata": {
        "id": "-gm6TsstIxET"
      },
      "execution_count": null,
      "outputs": []
    },
    {
      "cell_type": "code",
      "source": [
        "#5.     explain the concept of type casting in Python with examples\n",
        "#ans    Python offers two ways to perform typecasting. Here we will discuss both,\n",
        "#       Implicit type conversion-During the implicit type conversion, the user is not supposed to mention any specific data type during the conversion.\n",
        "#       Here python itself decides the data type.\n",
        "        a=10\n",
        "        print(type(a))#output=int\n",
        "        b=1.5\n",
        "        print(type(b))#output=float\n",
        "#       Explicit- In explicit type conversion in Python, the user is supposed to pass the value in a function to obtain the required data type.or\n",
        "#       we can change the data type by using certain keywords.\n",
        "#       1.int to float\n",
        "        a = 5\n",
        "        b = float(a)\n",
        "        print(b)  # Output: 5.0\n",
        "        print(type(b))  # Output: <class 'float'>\n",
        "#       2.Float to Int:\n",
        "        a = 5.6\n",
        "        b = int(a)\n",
        "        print(b)  # Output: 5\n",
        "       print(type(b))  # Output: <class 'int'>\n",
        "#      3.String to Int or Float\n",
        "        a = \"5\"\n",
        "        b = int(a)\n",
        "        print(type(b))  # Output: <class 'int'>\n",
        "        b = float(a)\n",
        "        print(type(b))  # Output: <class 'float'>\n"
      ],
      "metadata": {
        "id": "hSsLayypdkmI"
      },
      "execution_count": null,
      "outputs": []
    },
    {
      "cell_type": "code",
      "source": [
        "#6.     How do conditional statements work in Python? Illustrate with examples.\n",
        "#ans    Conditional statements in Python are used to execute different blocks of code based on certain conditions or decisions.\n",
        "#       They are also known as control structures.   Here are the types of conditional statements in Python:\n",
        "\n",
        "#       If Statement:The if statement is used to execute a block of code if a certain condition is true.\n",
        "        x = 5\n",
        "       if x > 10:\n",
        "       print(\"x is greater than 10\")\n",
        "#      If-Else Statement:The if-else statement is used to execute a block of code if a certain condition is true,\n",
        "#      and another block of code if the condition is false.\n",
        "       x = 5\n",
        "       if x > 10:\n",
        "       print(\"x is greater than 10\")\n",
        "       else:\n",
        "       print(\"x is less than or equal to 10\")\n",
        "#      The if-elif-else statement is used when there are multiple conditions to check. Python evaluates each condition in\n",
        "#      sequence and executes the block of code for the first condition that is true.\n",
        "       x = 5\n",
        "       if x > 10:\n",
        "       print(\"x is greater than 10\")\n",
        "       elif x == 5:\n",
        "       print(\"x is equal to 5\")\n",
        "      else:\n",
        "      print(\"x is less than 5\")\n",
        "#     The nested if statement is used to execute a block of code if a certain condition is true, and another condition is also true.\n",
        "      x = 5\n",
        "      y = 10\n",
        "      if x > 5:\n",
        "      if y > 10:\n",
        "      print(\"x is greater than 5 and y is greater than 10\")\n",
        "      else:\n",
        "      print(\"x is greater than 5 but y is less than or equal to 10\")\n",
        "       else:\n",
        "      print(\"x is less than or equal to 5\")\n",
        "\n"
      ],
      "metadata": {
        "id": "bvB-e7lYp3aZ"
      },
      "execution_count": null,
      "outputs": []
    },
    {
      "cell_type": "code",
      "source": [
        "#7.    Describe the different types of loops in Python and their use cases with examples.\n",
        "#Ans   Loops in Python allow you to execute a block of code repeatedly, which is essential for tasks that require iteration over a sequence\n",
        "#      for repeated execution based on a condition. Python supports two main types of loops: for loops and while loops.\n",
        "#      1.For loop-Repeating a block of code a specific number of times mention in range.\n",
        "         fruits = ['apple', 'banana', 'cherry']\n",
        "         for fruit in fruits:\n",
        "         print(fruit)\n",
        "          Output:# apple\n",
        "                 # banana\n",
        "                 # cherry\n",
        "#      2.While Loops:While loops are used to execute a block of code as long as a certain condition is true.\n",
        "       i = 0\n",
        "       while i < 5:\n",
        "       print(i)\n",
        "       i += 1\n",
        "#      Output:\n",
        "      1\n",
        "      2\n",
        "      3\n",
        "      4\n"
      ],
      "metadata": {
        "id": "0b91URMXxy-U"
      },
      "execution_count": null,
      "outputs": []
    }
  ]
}